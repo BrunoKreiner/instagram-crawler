{
 "cells": [
  {
   "cell_type": "code",
   "execution_count": 5,
   "metadata": {},
   "outputs": [
    {
     "ename": "JSONDecodeError",
     "evalue": "Expecting property name enclosed in double quotes: line 1 column 2 (char 1)",
     "output_type": "error",
     "traceback": [
      "\u001b[0;31m---------------------------------------------------------------------------\u001b[0m",
      "\u001b[0;31mJSONDecodeError\u001b[0m                           Traceback (most recent call last)",
      "Cell \u001b[0;32mIn [5], line 15\u001b[0m\n\u001b[1;32m     10\u001b[0m headers \u001b[39m=\u001b[39m {\n\u001b[1;32m     11\u001b[0m     \u001b[39m\"\u001b[39m\u001b[39muser-agent\u001b[39m\u001b[39m\"\u001b[39m: \u001b[39m\"\u001b[39m\u001b[39mMozilla/5.0 (Linux; Android 6.0; Nexus 5 Build/MRA58N) AppleWebKit/537.36 (KHTML, like Gecko) Chrome/87.0.4280.88 Mobile Safari/537.36 Edg/87.0.664.57\u001b[39m\u001b[39m\"\u001b[39m,\n\u001b[1;32m     12\u001b[0m     \u001b[39m\"\u001b[39m\u001b[39mcookie\u001b[39m\u001b[39m\"\u001b[39m: \u001b[39m\"\u001b[39m\u001b[39msessionid=56928593488\u001b[39m\u001b[39m%\u001b[39m\u001b[39m3A2rac9zhOwXtvIX\u001b[39m\u001b[39m%\u001b[39m\u001b[39m3A12\u001b[39m\u001b[39m%\u001b[39m\u001b[39m3AAYf2ziSuXiYYYwcA4kVm0H_xmqQZdkrFw3NKWOZkbA;\u001b[39m\u001b[39m\"\u001b[39m\n\u001b[1;32m     13\u001b[0m }\n\u001b[1;32m     14\u001b[0m joe \u001b[39m=\u001b[39m Profile(\u001b[39m\"\u001b[39m\u001b[39mjoebiden\u001b[39m\u001b[39m\"\u001b[39m)\n\u001b[0;32m---> 15\u001b[0m joe\u001b[39m.\u001b[39;49mscrape(headers\u001b[39m=\u001b[39;49mheaders)\n\u001b[1;32m     17\u001b[0m posts \u001b[39m=\u001b[39m joe\u001b[39m.\u001b[39mget_posts(webdriver\u001b[39m=\u001b[39mwebdriver, login_first\u001b[39m=\u001b[39m\u001b[39mTrue\u001b[39;00m)\n",
      "File \u001b[0;32m~/anaconda3/envs/wdb-mc2/lib/python3.10/site-packages/instascrape/core/_static_scraper.py:144\u001b[0m, in \u001b[0;36m_StaticHtmlScraper.scrape\u001b[0;34m(self, mapping, keys, exclude, headers, inplace, session, webdriver)\u001b[0m\n\u001b[1;32m    142\u001b[0m     scraped_dict \u001b[39m=\u001b[39m \u001b[39mself\u001b[39m\u001b[39m.\u001b[39msource\u001b[39m.\u001b[39mto_dict()\n\u001b[1;32m    143\u001b[0m \u001b[39melse\u001b[39;00m:\n\u001b[0;32m--> 144\u001b[0m     return_data \u001b[39m=\u001b[39m \u001b[39mself\u001b[39;49m\u001b[39m.\u001b[39;49m_get_json_from_source(\u001b[39mself\u001b[39;49m\u001b[39m.\u001b[39;49msource, headers\u001b[39m=\u001b[39;49mheaders, session\u001b[39m=\u001b[39;49msession)\n\u001b[1;32m    145\u001b[0m     flat_json_dict \u001b[39m=\u001b[39m flatten_dict(return_data[\u001b[39m\"\u001b[39m\u001b[39mjson_dict\u001b[39m\u001b[39m\"\u001b[39m])\n\u001b[1;32m    147\u001b[0m     \u001b[39m#HACK: patch mapping to fix the profile pic scrape when a sessionid is present\u001b[39;00m\n",
      "File \u001b[0;32m~/anaconda3/envs/wdb-mc2/lib/python3.10/site-packages/instascrape/core/_static_scraper.py:260\u001b[0m, in \u001b[0;36m_StaticHtmlScraper._get_json_from_source\u001b[0;34m(self, source, headers, session)\u001b[0m\n\u001b[1;32m    258\u001b[0m \u001b[39mif\u001b[39;00m initial_type:\n\u001b[1;32m    259\u001b[0m     soup \u001b[39m=\u001b[39m \u001b[39mself\u001b[39m\u001b[39m.\u001b[39msource\n\u001b[0;32m--> 260\u001b[0m json_dict_arr \u001b[39m=\u001b[39m json_from_soup(soup)\n\u001b[1;32m    261\u001b[0m \u001b[39mif\u001b[39;00m \u001b[39mlen\u001b[39m(json_dict_arr) \u001b[39m==\u001b[39m \u001b[39m1\u001b[39m:\n\u001b[1;32m    262\u001b[0m     json_dict \u001b[39m=\u001b[39m json_dict_arr[\u001b[39m0\u001b[39m]\n",
      "File \u001b[0;32m~/anaconda3/envs/wdb-mc2/lib/python3.10/site-packages/instascrape/scrapers/scrape_tools.py:94\u001b[0m, in \u001b[0;36mjson_from_soup\u001b[0;34m(source, as_dict, flatten)\u001b[0m\n\u001b[1;32m     91\u001b[0m json_data \u001b[39m=\u001b[39m _parse_json_str(source\u001b[39m=\u001b[39msource)\n\u001b[1;32m     93\u001b[0m \u001b[39mif\u001b[39;00m as_dict:\n\u001b[0;32m---> 94\u001b[0m     json_data \u001b[39m=\u001b[39m [json\u001b[39m.\u001b[39mloads(json_str) \u001b[39mfor\u001b[39;00m json_str \u001b[39min\u001b[39;00m json_data]\n\u001b[1;32m     95\u001b[0m \u001b[39mif\u001b[39;00m flatten:\n\u001b[1;32m     96\u001b[0m     json_data \u001b[39m=\u001b[39m [flatten_dict(json_dict) \u001b[39mfor\u001b[39;00m json_dict \u001b[39min\u001b[39;00m json_data]\n",
      "File \u001b[0;32m~/anaconda3/envs/wdb-mc2/lib/python3.10/site-packages/instascrape/scrapers/scrape_tools.py:94\u001b[0m, in \u001b[0;36m<listcomp>\u001b[0;34m(.0)\u001b[0m\n\u001b[1;32m     91\u001b[0m json_data \u001b[39m=\u001b[39m _parse_json_str(source\u001b[39m=\u001b[39msource)\n\u001b[1;32m     93\u001b[0m \u001b[39mif\u001b[39;00m as_dict:\n\u001b[0;32m---> 94\u001b[0m     json_data \u001b[39m=\u001b[39m [json\u001b[39m.\u001b[39;49mloads(json_str) \u001b[39mfor\u001b[39;00m json_str \u001b[39min\u001b[39;00m json_data]\n\u001b[1;32m     95\u001b[0m \u001b[39mif\u001b[39;00m flatten:\n\u001b[1;32m     96\u001b[0m     json_data \u001b[39m=\u001b[39m [flatten_dict(json_dict) \u001b[39mfor\u001b[39;00m json_dict \u001b[39min\u001b[39;00m json_data]\n",
      "File \u001b[0;32m~/anaconda3/envs/wdb-mc2/lib/python3.10/json/__init__.py:346\u001b[0m, in \u001b[0;36mloads\u001b[0;34m(s, cls, object_hook, parse_float, parse_int, parse_constant, object_pairs_hook, **kw)\u001b[0m\n\u001b[1;32m    341\u001b[0m     s \u001b[39m=\u001b[39m s\u001b[39m.\u001b[39mdecode(detect_encoding(s), \u001b[39m'\u001b[39m\u001b[39msurrogatepass\u001b[39m\u001b[39m'\u001b[39m)\n\u001b[1;32m    343\u001b[0m \u001b[39mif\u001b[39;00m (\u001b[39mcls\u001b[39m \u001b[39mis\u001b[39;00m \u001b[39mNone\u001b[39;00m \u001b[39mand\u001b[39;00m object_hook \u001b[39mis\u001b[39;00m \u001b[39mNone\u001b[39;00m \u001b[39mand\u001b[39;00m\n\u001b[1;32m    344\u001b[0m         parse_int \u001b[39mis\u001b[39;00m \u001b[39mNone\u001b[39;00m \u001b[39mand\u001b[39;00m parse_float \u001b[39mis\u001b[39;00m \u001b[39mNone\u001b[39;00m \u001b[39mand\u001b[39;00m\n\u001b[1;32m    345\u001b[0m         parse_constant \u001b[39mis\u001b[39;00m \u001b[39mNone\u001b[39;00m \u001b[39mand\u001b[39;00m object_pairs_hook \u001b[39mis\u001b[39;00m \u001b[39mNone\u001b[39;00m \u001b[39mand\u001b[39;00m \u001b[39mnot\u001b[39;00m kw):\n\u001b[0;32m--> 346\u001b[0m     \u001b[39mreturn\u001b[39;00m _default_decoder\u001b[39m.\u001b[39;49mdecode(s)\n\u001b[1;32m    347\u001b[0m \u001b[39mif\u001b[39;00m \u001b[39mcls\u001b[39m \u001b[39mis\u001b[39;00m \u001b[39mNone\u001b[39;00m:\n\u001b[1;32m    348\u001b[0m     \u001b[39mcls\u001b[39m \u001b[39m=\u001b[39m JSONDecoder\n",
      "File \u001b[0;32m~/anaconda3/envs/wdb-mc2/lib/python3.10/json/decoder.py:337\u001b[0m, in \u001b[0;36mJSONDecoder.decode\u001b[0;34m(self, s, _w)\u001b[0m\n\u001b[1;32m    332\u001b[0m \u001b[39mdef\u001b[39;00m \u001b[39mdecode\u001b[39m(\u001b[39mself\u001b[39m, s, _w\u001b[39m=\u001b[39mWHITESPACE\u001b[39m.\u001b[39mmatch):\n\u001b[1;32m    333\u001b[0m     \u001b[39m\"\"\"Return the Python representation of ``s`` (a ``str`` instance\u001b[39;00m\n\u001b[1;32m    334\u001b[0m \u001b[39m    containing a JSON document).\u001b[39;00m\n\u001b[1;32m    335\u001b[0m \n\u001b[1;32m    336\u001b[0m \u001b[39m    \"\"\"\u001b[39;00m\n\u001b[0;32m--> 337\u001b[0m     obj, end \u001b[39m=\u001b[39m \u001b[39mself\u001b[39;49m\u001b[39m.\u001b[39;49mraw_decode(s, idx\u001b[39m=\u001b[39;49m_w(s, \u001b[39m0\u001b[39;49m)\u001b[39m.\u001b[39;49mend())\n\u001b[1;32m    338\u001b[0m     end \u001b[39m=\u001b[39m _w(s, end)\u001b[39m.\u001b[39mend()\n\u001b[1;32m    339\u001b[0m     \u001b[39mif\u001b[39;00m end \u001b[39m!=\u001b[39m \u001b[39mlen\u001b[39m(s):\n",
      "File \u001b[0;32m~/anaconda3/envs/wdb-mc2/lib/python3.10/json/decoder.py:353\u001b[0m, in \u001b[0;36mJSONDecoder.raw_decode\u001b[0;34m(self, s, idx)\u001b[0m\n\u001b[1;32m    344\u001b[0m \u001b[39m\"\"\"Decode a JSON document from ``s`` (a ``str`` beginning with\u001b[39;00m\n\u001b[1;32m    345\u001b[0m \u001b[39ma JSON document) and return a 2-tuple of the Python\u001b[39;00m\n\u001b[1;32m    346\u001b[0m \u001b[39mrepresentation and the index in ``s`` where the document ended.\u001b[39;00m\n\u001b[0;32m   (...)\u001b[0m\n\u001b[1;32m    350\u001b[0m \n\u001b[1;32m    351\u001b[0m \u001b[39m\"\"\"\u001b[39;00m\n\u001b[1;32m    352\u001b[0m \u001b[39mtry\u001b[39;00m:\n\u001b[0;32m--> 353\u001b[0m     obj, end \u001b[39m=\u001b[39m \u001b[39mself\u001b[39;49m\u001b[39m.\u001b[39;49mscan_once(s, idx)\n\u001b[1;32m    354\u001b[0m \u001b[39mexcept\u001b[39;00m \u001b[39mStopIteration\u001b[39;00m \u001b[39mas\u001b[39;00m err:\n\u001b[1;32m    355\u001b[0m     \u001b[39mraise\u001b[39;00m JSONDecodeError(\u001b[39m\"\u001b[39m\u001b[39mExpecting value\u001b[39m\u001b[39m\"\u001b[39m, s, err\u001b[39m.\u001b[39mvalue) \u001b[39mfrom\u001b[39;00m \u001b[39mNone\u001b[39m\n",
      "\u001b[0;31mJSONDecodeError\u001b[0m: Expecting property name enclosed in double quotes: line 1 column 2 (char 1)"
     ]
    }
   ],
   "source": [
    "from selenium import webdriver\n",
    "from selenium.webdriver.edge.options import Options\n",
    "from selenium.webdriver.edge.service import Service\n",
    "from webdriver_manager.microsoft import EdgeChromiumDriverManager\n",
    "from instascrape import Profile, scrape_posts\n",
    "\n",
    "\n",
    "webdriver = webdriver.ChromiumEdge(service=Service(EdgeChromiumDriverManager().install()))\n",
    "\n",
    "headers = {\n",
    "    \"user-agent\": \"Mozilla/5.0 (Linux; Android 6.0; Nexus 5 Build/MRA58N) AppleWebKit/537.36 (KHTML, like Gecko) Chrome/87.0.4280.88 Mobile Safari/537.36 Edg/87.0.664.57\",\n",
    "    \"cookie\": \"sessionid=56928593488%3A2rac9zhOwXtvIX%3A12%3AAYf2ziSuXiYYYwcA4kVm0H_xmqQZdkrFw3NKWOZkbA;\"\n",
    "}\n",
    "joe = Profile(\"joebiden\")\n",
    "joe.scrape(headers=headers)\n",
    "\n",
    "posts = joe.get_posts(webdriver=webdriver, login_first=True)\n",
    "#scraped_posts, unscraped_posts = scrape_posts(posts, headers=headers, pause=10, silent=False)"
   ]
  },
  {
   "cell_type": "code",
   "execution_count": 7,
   "metadata": {},
   "outputs": [
    {
     "name": "stderr",
     "output_type": "stream",
     "text": [
      "/home/bruno/anaconda3/envs/wdb-mc2/lib/python3.10/site-packages/instascrape/core/_static_scraper.py:134: MissingCookiesWarning: Request header does not contain cookies! It's recommended you pass at least a valid sessionid otherwise Instagram will likely redirect you to their login page.\n",
      "  warnings.warn(\n"
     ]
    },
    {
     "ename": "JSONDecodeError",
     "evalue": "Expecting property name enclosed in double quotes: line 1 column 2 (char 1)",
     "output_type": "error",
     "traceback": [
      "\u001b[0;31m---------------------------------------------------------------------------\u001b[0m",
      "\u001b[0;31mJSONDecodeError\u001b[0m                           Traceback (most recent call last)",
      "Cell \u001b[0;32mIn [7], line 10\u001b[0m\n\u001b[1;32m      5\u001b[0m google_post \u001b[39m=\u001b[39m Post(\u001b[39m\"\u001b[39m\u001b[39mhttps://www.instagram.com/p/CG0UU3ylXnv/\u001b[39m\u001b[39m\"\u001b[39m)\n\u001b[1;32m      6\u001b[0m \u001b[39m#google_hashtag = Hashtag('https://www.instagram.com/explore/tags/google/')\u001b[39;00m\n\u001b[1;32m      7\u001b[0m \n\u001b[1;32m      8\u001b[0m \u001b[39m# Scrape their respective data \u001b[39;00m\n\u001b[1;32m      9\u001b[0m \u001b[39m#google.scrape()\u001b[39;00m\n\u001b[0;32m---> 10\u001b[0m google_post\u001b[39m.\u001b[39;49mscrape()\n\u001b[1;32m     11\u001b[0m \u001b[39m#google_hashtag.scrape()\u001b[39;00m\n\u001b[1;32m     12\u001b[0m \n\u001b[1;32m     13\u001b[0m \u001b[39m#print(google.followers)\u001b[39;00m\n\u001b[1;32m     14\u001b[0m \u001b[39mprint\u001b[39m(google_post[\u001b[39m'\u001b[39m\u001b[39mhashtags\u001b[39m\u001b[39m'\u001b[39m])\n",
      "File \u001b[0;32m~/anaconda3/envs/wdb-mc2/lib/python3.10/site-packages/instascrape/scrapers/post.py:73\u001b[0m, in \u001b[0;36mPost.scrape\u001b[0;34m(self, mapping, keys, exclude, headers, inplace, session, webdriver)\u001b[0m\n\u001b[1;32m     71\u001b[0m \u001b[39mif\u001b[39;00m \u001b[39mhasattr\u001b[39m(\u001b[39mself\u001b[39m, \u001b[39m\"\u001b[39m\u001b[39mshortcode\u001b[39m\u001b[39m\"\u001b[39m):\n\u001b[1;32m     72\u001b[0m     \u001b[39mself\u001b[39m\u001b[39m.\u001b[39msource \u001b[39m=\u001b[39m \u001b[39mself\u001b[39m\u001b[39m.\u001b[39mshortcode\n\u001b[0;32m---> 73\u001b[0m return_instance \u001b[39m=\u001b[39m \u001b[39msuper\u001b[39;49m()\u001b[39m.\u001b[39;49mscrape(\n\u001b[1;32m     74\u001b[0m                     mapping\u001b[39m=\u001b[39;49mmapping,\n\u001b[1;32m     75\u001b[0m                     keys\u001b[39m=\u001b[39;49mkeys,\n\u001b[1;32m     76\u001b[0m                     exclude\u001b[39m=\u001b[39;49mexclude,\n\u001b[1;32m     77\u001b[0m                     headers\u001b[39m=\u001b[39;49mheaders,\n\u001b[1;32m     78\u001b[0m                     inplace\u001b[39m=\u001b[39;49minplace,\n\u001b[1;32m     79\u001b[0m                     session\u001b[39m=\u001b[39;49msession,\n\u001b[1;32m     80\u001b[0m                     webdriver\u001b[39m=\u001b[39;49mwebdriver\n\u001b[1;32m     81\u001b[0m                 )\n\u001b[1;32m     82\u001b[0m \u001b[39mif\u001b[39;00m return_instance \u001b[39mis\u001b[39;00m \u001b[39mNone\u001b[39;00m:\n\u001b[1;32m     83\u001b[0m     return_instance \u001b[39m=\u001b[39m \u001b[39mself\u001b[39m\n",
      "File \u001b[0;32m~/anaconda3/envs/wdb-mc2/lib/python3.10/site-packages/instascrape/core/_static_scraper.py:144\u001b[0m, in \u001b[0;36m_StaticHtmlScraper.scrape\u001b[0;34m(self, mapping, keys, exclude, headers, inplace, session, webdriver)\u001b[0m\n\u001b[1;32m    142\u001b[0m     scraped_dict \u001b[39m=\u001b[39m \u001b[39mself\u001b[39m\u001b[39m.\u001b[39msource\u001b[39m.\u001b[39mto_dict()\n\u001b[1;32m    143\u001b[0m \u001b[39melse\u001b[39;00m:\n\u001b[0;32m--> 144\u001b[0m     return_data \u001b[39m=\u001b[39m \u001b[39mself\u001b[39;49m\u001b[39m.\u001b[39;49m_get_json_from_source(\u001b[39mself\u001b[39;49m\u001b[39m.\u001b[39;49msource, headers\u001b[39m=\u001b[39;49mheaders, session\u001b[39m=\u001b[39;49msession)\n\u001b[1;32m    145\u001b[0m     flat_json_dict \u001b[39m=\u001b[39m flatten_dict(return_data[\u001b[39m\"\u001b[39m\u001b[39mjson_dict\u001b[39m\u001b[39m\"\u001b[39m])\n\u001b[1;32m    147\u001b[0m     \u001b[39m#HACK: patch mapping to fix the profile pic scrape when a sessionid is present\u001b[39;00m\n",
      "File \u001b[0;32m~/anaconda3/envs/wdb-mc2/lib/python3.10/site-packages/instascrape/core/_static_scraper.py:260\u001b[0m, in \u001b[0;36m_StaticHtmlScraper._get_json_from_source\u001b[0;34m(self, source, headers, session)\u001b[0m\n\u001b[1;32m    258\u001b[0m \u001b[39mif\u001b[39;00m initial_type:\n\u001b[1;32m    259\u001b[0m     soup \u001b[39m=\u001b[39m \u001b[39mself\u001b[39m\u001b[39m.\u001b[39msource\n\u001b[0;32m--> 260\u001b[0m json_dict_arr \u001b[39m=\u001b[39m json_from_soup(soup)\n\u001b[1;32m    261\u001b[0m \u001b[39mif\u001b[39;00m \u001b[39mlen\u001b[39m(json_dict_arr) \u001b[39m==\u001b[39m \u001b[39m1\u001b[39m:\n\u001b[1;32m    262\u001b[0m     json_dict \u001b[39m=\u001b[39m json_dict_arr[\u001b[39m0\u001b[39m]\n",
      "File \u001b[0;32m~/anaconda3/envs/wdb-mc2/lib/python3.10/site-packages/instascrape/scrapers/scrape_tools.py:94\u001b[0m, in \u001b[0;36mjson_from_soup\u001b[0;34m(source, as_dict, flatten)\u001b[0m\n\u001b[1;32m     91\u001b[0m json_data \u001b[39m=\u001b[39m _parse_json_str(source\u001b[39m=\u001b[39msource)\n\u001b[1;32m     93\u001b[0m \u001b[39mif\u001b[39;00m as_dict:\n\u001b[0;32m---> 94\u001b[0m     json_data \u001b[39m=\u001b[39m [json\u001b[39m.\u001b[39mloads(json_str) \u001b[39mfor\u001b[39;00m json_str \u001b[39min\u001b[39;00m json_data]\n\u001b[1;32m     95\u001b[0m \u001b[39mif\u001b[39;00m flatten:\n\u001b[1;32m     96\u001b[0m     json_data \u001b[39m=\u001b[39m [flatten_dict(json_dict) \u001b[39mfor\u001b[39;00m json_dict \u001b[39min\u001b[39;00m json_data]\n",
      "File \u001b[0;32m~/anaconda3/envs/wdb-mc2/lib/python3.10/site-packages/instascrape/scrapers/scrape_tools.py:94\u001b[0m, in \u001b[0;36m<listcomp>\u001b[0;34m(.0)\u001b[0m\n\u001b[1;32m     91\u001b[0m json_data \u001b[39m=\u001b[39m _parse_json_str(source\u001b[39m=\u001b[39msource)\n\u001b[1;32m     93\u001b[0m \u001b[39mif\u001b[39;00m as_dict:\n\u001b[0;32m---> 94\u001b[0m     json_data \u001b[39m=\u001b[39m [json\u001b[39m.\u001b[39;49mloads(json_str) \u001b[39mfor\u001b[39;00m json_str \u001b[39min\u001b[39;00m json_data]\n\u001b[1;32m     95\u001b[0m \u001b[39mif\u001b[39;00m flatten:\n\u001b[1;32m     96\u001b[0m     json_data \u001b[39m=\u001b[39m [flatten_dict(json_dict) \u001b[39mfor\u001b[39;00m json_dict \u001b[39min\u001b[39;00m json_data]\n",
      "File \u001b[0;32m~/anaconda3/envs/wdb-mc2/lib/python3.10/json/__init__.py:346\u001b[0m, in \u001b[0;36mloads\u001b[0;34m(s, cls, object_hook, parse_float, parse_int, parse_constant, object_pairs_hook, **kw)\u001b[0m\n\u001b[1;32m    341\u001b[0m     s \u001b[39m=\u001b[39m s\u001b[39m.\u001b[39mdecode(detect_encoding(s), \u001b[39m'\u001b[39m\u001b[39msurrogatepass\u001b[39m\u001b[39m'\u001b[39m)\n\u001b[1;32m    343\u001b[0m \u001b[39mif\u001b[39;00m (\u001b[39mcls\u001b[39m \u001b[39mis\u001b[39;00m \u001b[39mNone\u001b[39;00m \u001b[39mand\u001b[39;00m object_hook \u001b[39mis\u001b[39;00m \u001b[39mNone\u001b[39;00m \u001b[39mand\u001b[39;00m\n\u001b[1;32m    344\u001b[0m         parse_int \u001b[39mis\u001b[39;00m \u001b[39mNone\u001b[39;00m \u001b[39mand\u001b[39;00m parse_float \u001b[39mis\u001b[39;00m \u001b[39mNone\u001b[39;00m \u001b[39mand\u001b[39;00m\n\u001b[1;32m    345\u001b[0m         parse_constant \u001b[39mis\u001b[39;00m \u001b[39mNone\u001b[39;00m \u001b[39mand\u001b[39;00m object_pairs_hook \u001b[39mis\u001b[39;00m \u001b[39mNone\u001b[39;00m \u001b[39mand\u001b[39;00m \u001b[39mnot\u001b[39;00m kw):\n\u001b[0;32m--> 346\u001b[0m     \u001b[39mreturn\u001b[39;00m _default_decoder\u001b[39m.\u001b[39;49mdecode(s)\n\u001b[1;32m    347\u001b[0m \u001b[39mif\u001b[39;00m \u001b[39mcls\u001b[39m \u001b[39mis\u001b[39;00m \u001b[39mNone\u001b[39;00m:\n\u001b[1;32m    348\u001b[0m     \u001b[39mcls\u001b[39m \u001b[39m=\u001b[39m JSONDecoder\n",
      "File \u001b[0;32m~/anaconda3/envs/wdb-mc2/lib/python3.10/json/decoder.py:337\u001b[0m, in \u001b[0;36mJSONDecoder.decode\u001b[0;34m(self, s, _w)\u001b[0m\n\u001b[1;32m    332\u001b[0m \u001b[39mdef\u001b[39;00m \u001b[39mdecode\u001b[39m(\u001b[39mself\u001b[39m, s, _w\u001b[39m=\u001b[39mWHITESPACE\u001b[39m.\u001b[39mmatch):\n\u001b[1;32m    333\u001b[0m     \u001b[39m\"\"\"Return the Python representation of ``s`` (a ``str`` instance\u001b[39;00m\n\u001b[1;32m    334\u001b[0m \u001b[39m    containing a JSON document).\u001b[39;00m\n\u001b[1;32m    335\u001b[0m \n\u001b[1;32m    336\u001b[0m \u001b[39m    \"\"\"\u001b[39;00m\n\u001b[0;32m--> 337\u001b[0m     obj, end \u001b[39m=\u001b[39m \u001b[39mself\u001b[39;49m\u001b[39m.\u001b[39;49mraw_decode(s, idx\u001b[39m=\u001b[39;49m_w(s, \u001b[39m0\u001b[39;49m)\u001b[39m.\u001b[39;49mend())\n\u001b[1;32m    338\u001b[0m     end \u001b[39m=\u001b[39m _w(s, end)\u001b[39m.\u001b[39mend()\n\u001b[1;32m    339\u001b[0m     \u001b[39mif\u001b[39;00m end \u001b[39m!=\u001b[39m \u001b[39mlen\u001b[39m(s):\n",
      "File \u001b[0;32m~/anaconda3/envs/wdb-mc2/lib/python3.10/json/decoder.py:353\u001b[0m, in \u001b[0;36mJSONDecoder.raw_decode\u001b[0;34m(self, s, idx)\u001b[0m\n\u001b[1;32m    344\u001b[0m \u001b[39m\"\"\"Decode a JSON document from ``s`` (a ``str`` beginning with\u001b[39;00m\n\u001b[1;32m    345\u001b[0m \u001b[39ma JSON document) and return a 2-tuple of the Python\u001b[39;00m\n\u001b[1;32m    346\u001b[0m \u001b[39mrepresentation and the index in ``s`` where the document ended.\u001b[39;00m\n\u001b[0;32m   (...)\u001b[0m\n\u001b[1;32m    350\u001b[0m \n\u001b[1;32m    351\u001b[0m \u001b[39m\"\"\"\u001b[39;00m\n\u001b[1;32m    352\u001b[0m \u001b[39mtry\u001b[39;00m:\n\u001b[0;32m--> 353\u001b[0m     obj, end \u001b[39m=\u001b[39m \u001b[39mself\u001b[39;49m\u001b[39m.\u001b[39;49mscan_once(s, idx)\n\u001b[1;32m    354\u001b[0m \u001b[39mexcept\u001b[39;00m \u001b[39mStopIteration\u001b[39;00m \u001b[39mas\u001b[39;00m err:\n\u001b[1;32m    355\u001b[0m     \u001b[39mraise\u001b[39;00m JSONDecodeError(\u001b[39m\"\u001b[39m\u001b[39mExpecting value\u001b[39m\u001b[39m\"\u001b[39m, s, err\u001b[39m.\u001b[39mvalue) \u001b[39mfrom\u001b[39;00m \u001b[39mNone\u001b[39m\n",
      "\u001b[0;31mJSONDecodeError\u001b[0m: Expecting property name enclosed in double quotes: line 1 column 2 (char 1)"
     ]
    }
   ],
   "source": [
    "from instascrape import *\n",
    "\n",
    "# Instantiate the scraper objects \n",
    "#google = Profile('https://www.instagram.com/google/')\n",
    "google_post = Post(\"https://www.instagram.com/p/CG0UU3ylXnv/\")\n",
    "#google_hashtag = Hashtag('https://www.instagram.com/explore/tags/google/')\n",
    "\n",
    "# Scrape their respective data \n",
    "#google.scrape()\n",
    "google_post.scrape()\n",
    "#google_hashtag.scrape()\n",
    "\n",
    "#print(google.followers)\n",
    "print(google_post['hashtags'])\n",
    "#print(google_hashtag.amount_of_posts)"
   ]
  },
  {
   "cell_type": "code",
   "execution_count": null,
   "metadata": {},
   "outputs": [],
   "source": []
  }
 ],
 "metadata": {
  "kernelspec": {
   "display_name": "Python 3.10.8 ('wdb-mc2')",
   "language": "python",
   "name": "python3"
  },
  "language_info": {
   "codemirror_mode": {
    "name": "ipython",
    "version": 3
   },
   "file_extension": ".py",
   "mimetype": "text/x-python",
   "name": "python",
   "nbconvert_exporter": "python",
   "pygments_lexer": "ipython3",
   "version": "3.10.8"
  },
  "orig_nbformat": 4,
  "vscode": {
   "interpreter": {
    "hash": "5a4e5273574fb1672fc864b08eb858a1aee21f9898c62ba7c7defcfa7a4d13f9"
   }
  }
 },
 "nbformat": 4,
 "nbformat_minor": 2
}
